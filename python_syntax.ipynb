{
 "cells": [
  {
   "cell_type": "code",
   "execution_count": 1,
   "metadata": {},
   "outputs": [
    {
     "name": "stdout",
     "output_type": "stream",
     "text": [
      "Hello World\n"
     ]
    }
   ],
   "source": [
    "print(\"Hello World\")"
   ]
  },
  {
   "cell_type": "code",
   "execution_count": 2,
   "metadata": {},
   "outputs": [],
   "source": [
    "name = \"PythonClassJan2024\""
   ]
  },
  {
   "cell_type": "code",
   "execution_count": 3,
   "metadata": {},
   "outputs": [
    {
     "data": {
      "text/plain": [
       "'PythonClassJan2024'"
      ]
     },
     "execution_count": 3,
     "metadata": {},
     "output_type": "execute_result"
    }
   ],
   "source": [
    "name"
   ]
  },
  {
   "cell_type": "code",
   "execution_count": 4,
   "metadata": {},
   "outputs": [
    {
     "name": "stdout",
     "output_type": "stream",
     "text": [
      "PythonClassJan2024\n"
     ]
    }
   ],
   "source": [
    "print(name)"
   ]
  },
  {
   "cell_type": "code",
   "execution_count": 6,
   "metadata": {},
   "outputs": [
    {
     "name": "stdout",
     "output_type": "stream",
     "text": [
      "Name of student is name\n",
      "Name of student is  PremSagar\n"
     ]
    }
   ],
   "source": [
    "name = \"PremSagar\"\n",
    "print(\"Name of student is name\")\n",
    "print(\"Name of student is \", name)"
   ]
  },
  {
   "cell_type": "code",
   "execution_count": 8,
   "metadata": {},
   "outputs": [
    {
     "name": "stdout",
     "output_type": "stream",
     "text": [
      "1~2~3~4~5~6\n",
      "1_2_3_4_5_6\n",
      "1:2:3:4:5:6\n"
     ]
    }
   ],
   "source": [
    "#default sep=\" \"\n",
    "print(1, 2, 3, 4, 5, 6, sep=\"~\")\n",
    "print(1, 2, 3, 4, 5, 6, sep=\"_\")\n",
    "print(1, 2, 3, 4, 5, 6, sep=\":\")"
   ]
  },
  {
   "cell_type": "code",
   "execution_count": 9,
   "metadata": {},
   "outputs": [
    {
     "name": "stdout",
     "output_type": "stream",
     "text": [
      "hello \tworld \tpython\n"
     ]
    }
   ],
   "source": [
    "print(\"hello \\tworld \\tpython\")"
   ]
  },
  {
   "cell_type": "code",
   "execution_count": 10,
   "metadata": {},
   "outputs": [
    {
     "name": "stdout",
     "output_type": "stream",
     "text": [
      "hello \tworld \\npython\n"
     ]
    }
   ],
   "source": [
    "print(\"hello \\tworld \\\\npython\")\n"
   ]
  },
  {
   "cell_type": "code",
   "execution_count": 11,
   "metadata": {},
   "outputs": [
    {
     "name": "stdout",
     "output_type": "stream",
     "text": [
      "C:\\my\n",
      "ewfolder\n",
      "C:\\my\\newfolder\n"
     ]
    }
   ],
   "source": [
    "print(\"C:\\my\\newfolder\")\n",
    "print(\"C:\\\\my\\\\newfolder\")\n"
   ]
  },
  {
   "cell_type": "code",
   "execution_count": 2,
   "metadata": {},
   "outputs": [
    {
     "name": "stdout",
     "output_type": "stream",
     "text": [
      "hello\n",
      "world\n",
      "hello___hello\t"
     ]
    }
   ],
   "source": [
    "print(\"hello\", end=\"\\n\")\n",
    "print(\"world\", end=\"\\n\")\n",
    "print(\"hello\", end=\"___\")\n",
    "print(\"hello\", end=\"\\t\")\n"
   ]
  },
  {
   "cell_type": "code",
   "execution_count": 3,
   "metadata": {},
   "outputs": [
    {
     "name": "stdout",
     "output_type": "stream",
     "text": [
      "1;2;3;4;5\ta-b-c-d\n"
     ]
    }
   ],
   "source": [
    "print(1, 2, 3, 4, 5, sep=\";\", end=\"\\t\")\n",
    "print(\"a\", \"b\", \"c\", \"d\", sep=\"-\")  # default end='\\n'\n"
   ]
  },
  {
   "cell_type": "code",
   "execution_count": 4,
   "metadata": {},
   "outputs": [
    {
     "name": "stdout",
     "output_type": "stream",
     "text": [
      "#$%*&^(*;\n"
     ]
    }
   ],
   "source": [
    "print(\"#$%*&^(*;\")"
   ]
  },
  {
   "cell_type": "code",
   "execution_count": 5,
   "metadata": {},
   "outputs": [
    {
     "name": "stdout",
     "output_type": "stream",
     "text": [
      "₹\n",
      "Ǝ\n",
      "&\n"
     ]
    }
   ],
   "source": [
    "# Unicode characters \\uXXX - unicode character\n",
    "print(\"\\u20B9\")  # ₹\n",
    "print(\"\\u018e\")  # Ǝ\n",
    "\n",
    "print(\"\\046\")  # &"
   ]
  },
  {
   "cell_type": "code",
   "execution_count": 6,
   "metadata": {},
   "outputs": [
    {
     "name": "stdout",
     "output_type": "stream",
     "text": [
      "$\n",
      "ñ\n"
     ]
    }
   ],
   "source": [
    "# \\x... - hexadecimal number  - 0 to 9 and Ato F\n",
    "print(\"\\x24\")\n",
    "print(\"\\xf1\")"
   ]
  },
  {
   "cell_type": "code",
   "execution_count": 7,
   "metadata": {},
   "outputs": [
    {
     "name": "stdout",
     "output_type": "stream",
     "text": [
      "\\o24\n",
      "\u0011\n"
     ]
    }
   ],
   "source": [
    "# \\o... - octal number  - 0 to 8\n",
    "print(\"\\o24\")\n",
    "print(\"\\021\")"
   ]
  }
 ],
 "metadata": {
  "kernelspec": {
   "display_name": "Python 3",
   "language": "python",
   "name": "python3"
  },
  "language_info": {
   "codemirror_mode": {
    "name": "ipython",
    "version": 3
   },
   "file_extension": ".py",
   "mimetype": "text/x-python",
   "name": "python",
   "nbconvert_exporter": "python",
   "pygments_lexer": "ipython3",
   "version": "3.10.13"
  }
 },
 "nbformat": 4,
 "nbformat_minor": 2
}
