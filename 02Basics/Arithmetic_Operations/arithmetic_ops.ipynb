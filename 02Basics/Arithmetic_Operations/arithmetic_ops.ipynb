{
 "cells": [
  {
   "cell_type": "markdown",
   "metadata": {},
   "source": [
    "Integer Family\n",
    "    - int\n",
    "    - long -> only in python 2.x\n",
    "    - float\n",
    "\n",
    "    - complex\n",
    "    - bool"
   ]
  },
  {
   "cell_type": "code",
   "execution_count": 54,
   "metadata": {},
   "outputs": [
    {
     "name": "stdout",
     "output_type": "stream",
     "text": [
      "100 is a  <class 'int'>\n"
     ]
    }
   ],
   "source": [
    "# = assignment operator\n",
    "num1=100\n",
    "print(num1,\"is a \", type(num1))"
   ]
  },
  {
   "cell_type": "code",
   "execution_count": 55,
   "metadata": {},
   "outputs": [
    {
     "name": "stdout",
     "output_type": "stream",
     "text": [
      "num3 = 200\n"
     ]
    }
   ],
   "source": [
    "# + - * / // %\n",
    "# NOTE: PEP 8 recommends to place one space around the operator\n",
    "num2=num1\n",
    "num3 = num1 + num2 \n",
    "print(\"num3 =\", num3)"
   ]
  },
  {
   "cell_type": "code",
   "execution_count": 4,
   "metadata": {},
   "outputs": [
    {
     "name": "stdout",
     "output_type": "stream",
     "text": [
      "num4= 1.0 <class 'float'>\n"
     ]
    }
   ],
   "source": [
    "num4 = 1.0  # float\n",
    "print(\"num4=\", num4, type(num4))"
   ]
  },
  {
   "cell_type": "code",
   "execution_count": 5,
   "metadata": {},
   "outputs": [
    {
     "name": "stdout",
     "output_type": "stream",
     "text": [
      "num6= 9999999956456434344343242343232423423423423423423432432423434123232323 <class 'int'>\n"
     ]
    }
   ],
   "source": [
    "# Question 1: what is the largest number that can be processed in python\n",
    "num6 = 9999999956456434344343242343232423423423423423423432432423434123232323\n",
    "print(\"num6=\", num6, type(num6))"
   ]
  },
  {
   "cell_type": "code",
   "execution_count": 6,
   "metadata": {},
   "outputs": [
    {
     "name": "stdout",
     "output_type": "stream",
     "text": [
      "num6= 2.130213869388792e-05 <class 'float'>\n"
     ]
    }
   ],
   "source": [
    "# Question 2: what is the smallest number that can be processed in python\n",
    "num6 = 0.00002130213869388792183798798321989812739\n",
    "print(\"num6=\", num6, type(num6))"
   ]
  },
  {
   "cell_type": "code",
   "execution_count": 7,
   "metadata": {},
   "outputs": [
    {
     "data": {
      "text/plain": [
       "(1e-12, Decimal('1E-12'))"
      ]
     },
     "execution_count": 7,
     "metadata": {},
     "output_type": "execute_result"
    }
   ],
   "source": [
    "from decimal import Decimal\n",
    "\n",
    "0.000000000001, Decimal(\"0.000000000001\")"
   ]
  },
  {
   "cell_type": "code",
   "execution_count": 8,
   "metadata": {},
   "outputs": [
    {
     "data": {
      "text/plain": [
       "(0.2343242349, Decimal('0.2343242349000'))"
      ]
     },
     "execution_count": 8,
     "metadata": {},
     "output_type": "execute_result"
    }
   ],
   "source": [
    "0.2343242349000, Decimal(\"0.2343242349000\")\n"
   ]
  },
  {
   "cell_type": "code",
   "execution_count": 9,
   "metadata": {},
   "outputs": [
    {
     "data": {
      "text/plain": [
       "(0.3333333333333333, Fraction(1, 3))"
      ]
     },
     "execution_count": 9,
     "metadata": {},
     "output_type": "execute_result"
    }
   ],
   "source": [
    "from fractions import Fraction\n",
    "\n",
    "1/3, Fraction('1/3')"
   ]
  },
  {
   "cell_type": "code",
   "execution_count": 10,
   "metadata": {},
   "outputs": [
    {
     "name": "stdout",
     "output_type": "stream",
     "text": [
      "123 + 100 =  223\n",
      "123 - 100 =  23\n",
      "123 * 100 =  12300\n",
      "123 / 100 =  1.23\n"
     ]
    }
   ],
   "source": [
    "# Arithmetic Operations\n",
    "print(\"123 + 100 = \", 123 + 100)\n",
    "print(\"123 - 100 = \", 123 - 100)\n",
    "print(\"123 * 100 = \", 123 * 100)\n",
    "print(\"123 / 100 = \", 123 / 100)"
   ]
  },
  {
   "cell_type": "code",
   "execution_count": 11,
   "metadata": {},
   "outputs": [
    {
     "name": "stdout",
     "output_type": "stream",
     "text": [
      "10/2 =  5.0\n",
      "10/5 =  2.0\n",
      "10/3 =  3.3333333333333335\n"
     ]
    }
   ],
   "source": [
    "print(\"10/2 = \", 10 / 2)\n",
    "print(\"10/5 = \", 10 / 5)\n",
    "print(\"10/3 = \", 10 / 3)\n",
    "# NOTE: division result will be floating point every time"
   ]
  },
  {
   "cell_type": "code",
   "execution_count": 12,
   "metadata": {},
   "outputs": [
    {
     "name": "stdout",
     "output_type": "stream",
     "text": [
      "10 / 3 =  3.3333333333333335\n",
      "10 // 3 =  3\n",
      "10 % 3  =  1\n"
     ]
    }
   ],
   "source": [
    "print(\"10 / 3 = \", 10 / 3)    # true division\n",
    "print(\"10 // 3 = \", 10 // 3)  # quotient - floor division\n",
    "print(\"10 % 3  = \", 10 % 3)   # quotient - floor division"
   ]
  },
  {
   "cell_type": "code",
   "execution_count": 14,
   "metadata": {},
   "outputs": [
    {
     "name": "stdout",
     "output_type": "stream",
     "text": [
      "divmod(10, 3)= (3, 1)\n"
     ]
    }
   ],
   "source": [
    "print(\"divmod(10, 3)=\", divmod(10, 3))  # //, %\n",
    "# quotient - floor division\n",
    "# quotient - floor division"
   ]
  },
  {
   "cell_type": "code",
   "execution_count": 15,
   "metadata": {},
   "outputs": [
    {
     "name": "stdout",
     "output_type": "stream",
     "text": [
      "\n",
      "10 // 2      = 5\n",
      "10 % 2       = 0\n",
      "divmod(10, 2)= (5, 0)\n"
     ]
    }
   ],
   "source": [
    "\"\"\"\n",
    "10/2\n",
    "\n",
    "    2 ) 10 ( 5  <-- Quotient\n",
    "        10\n",
    "        ---\n",
    "         0  <--- remainder\n",
    "\n",
    "\"\"\"\n",
    "print()\n",
    "print(\"10 // 2      =\", 10 // 2)\n",
    "print(\"10 % 2       =\", 10 % 2)\n",
    "print(\"divmod(10, 2)=\", divmod(10, 2))  # //, %"
   ]
  },
  {
   "cell_type": "code",
   "execution_count": 16,
   "metadata": {},
   "outputs": [
    {
     "name": "stdout",
     "output_type": "stream",
     "text": [
      "10 / 3   =  3.3333333333333335\n",
      "-10 / 3  =  -3.3333333333333335\n",
      "10 / -3  =  -3.3333333333333335\n",
      "-10 / -3 =  3.3333333333333335\n"
     ]
    }
   ],
   "source": [
    "# IMPORTANCE OF SIGNS\n",
    "print(\"10 / 3   = \", 10 / 3)  # 3.3333333333333335\n",
    "print(\"-10 / 3  = \", -10 / 3)  # -3.3333333333333335\n",
    "print(\"10 / -3  = \", 10 / -3)  # -3.3333333333333335\n",
    "print(\"-10 / -3 = \", -10 / -3)  # 3.3333333333333335"
   ]
  },
  {
   "cell_type": "code",
   "execution_count": 17,
   "metadata": {},
   "outputs": [
    {
     "name": "stdout",
     "output_type": "stream",
     "text": [
      "10 // 3   =  3\n",
      "-10 // 3  =  -4\n",
      "10 // -3  =  -4\n",
      "-10 // -3 =  3\n"
     ]
    }
   ],
   "source": [
    "# The result is always rounded towards minus infinity\n",
    "print(\"10 // 3   = \", 10 // 3)    # 3     3 <  3.333 < 4\n",
    "print(\"-10 // 3  = \", -10 // 3)   # -4    -4 < -3.333 < 3\n",
    "print(\"10 // -3  = \", 10 // -3)   # -4    -4 < -3.333 < 3\n",
    "print(\"-10 // -3 = \", -10 // -3)  # 3     3 <  3.333 < 4"
   ]
  },
  {
   "cell_type": "code",
   "execution_count": 18,
   "metadata": {},
   "outputs": [
    {
     "name": "stdout",
     "output_type": "stream",
     "text": [
      "10 % 3   =  1\n",
      "-10 % 3  =  2\n",
      "10 % -3  =  -2\n",
      "-10 % -3 =  -1\n"
     ]
    }
   ],
   "source": [
    "print(\"10 % 3   = \", 10 % 3)    # 1\n",
    "print(\"-10 % 3  = \", -10 % 3)   # 2\n",
    "print(\"10 % -3  = \", 10 % -3)   # -2\n",
    "print(\"-10 % -3 = \", -10 % -3)  # -1"
   ]
  },
  {
   "cell_type": "code",
   "execution_count": 57,
   "metadata": {},
   "outputs": [
    {
     "name": "stdout",
     "output_type": "stream",
     "text": [
      "110 90 2000\n",
      "num1 = 120 \n",
      "num2 = 80 \n",
      "num3 = 20000\n"
     ]
    }
   ],
   "source": [
    "# NOTE: In cases, where the same variable is present both the sides,\n",
    "# then compound operations are valid\n",
    "num1 += 10 # num1 = num1 + 10\n",
    "num2 -= 10 #num2 = num2 - 10\n",
    "num3 *= 10 #num3 = num3 * 10\n",
    "\n",
    "print(\"num1 =\", num1,\n",
    "      \"\\nnum2 =\", num2, \n",
    "      \"\\nnum3 =\", num3, )"
   ]
  },
  {
   "cell_type": "code",
   "execution_count": 58,
   "metadata": {},
   "outputs": [],
   "source": [
    "# NOTE: python doesn't support unary operations ;\n",
    "# ++i, i++, --i, i--\n",
    "# it should used as i += 1, i -=1\n",
    "#---------------------------------#\n",
    "# *  multiplication operator\n",
    "# ** power operator"
   ]
  },
  {
   "cell_type": "code",
   "execution_count": 59,
   "metadata": {},
   "outputs": [
    {
     "name": "stdout",
     "output_type": "stream",
     "text": [
      "power operation **\n",
      "4 ** 2           =  16\n",
      "64 ** (1/2)      =  8.0\n",
      "64 ** (1/2.0)    =  8.0\n",
      "64 ** 0.5        =  8.0\n"
     ]
    }
   ],
   "source": [
    "print(\"power operation **\")\n",
    "print(\"4 ** 2           = \", 4**2)\n",
    "print(\"64 ** (1/2)      = \", 64 ** (1 / 2))  # square root\n",
    "print(\"64 ** (1/2.0)    = \", 64 ** (1 / 2.0))  # square root\n",
    "print(\"64 ** 0.5        = \", 64**0.5)  # square root"
   ]
  },
  {
   "cell_type": "code",
   "execution_count": 60,
   "metadata": {},
   "outputs": [
    {
     "name": "stdout",
     "output_type": "stream",
     "text": [
      "64 ** 1/2        =  32.0\n",
      "(64 ** 1)/2      =  32.0\n",
      "64 ** (1/2)      =  8.0\n"
     ]
    }
   ],
   "source": [
    "# Operator precedence - PEMDAS\n",
    "print(\"64 ** 1/2        = \", 64**1 / 2)  # 32\n",
    "print(\"(64 ** 1)/2      = \", (64**1) / 2)  # 32\n",
    "print(\"64 ** (1/2)      = \", 64 ** (1 / 2))  # 8.0"
   ]
  }
 ],
 "metadata": {
  "kernelspec": {
   "display_name": "Python 3",
   "language": "python",
   "name": "python3"
  },
  "language_info": {
   "codemirror_mode": {
    "name": "ipython",
    "version": 3
   },
   "file_extension": ".py",
   "mimetype": "text/x-python",
   "name": "python",
   "nbconvert_exporter": "python",
   "pygments_lexer": "ipython3",
   "version": "3.10.13"
  }
 },
 "nbformat": 4,
 "nbformat_minor": 2
}
